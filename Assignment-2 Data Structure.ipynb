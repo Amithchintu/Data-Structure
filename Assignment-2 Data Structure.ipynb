{
 "cells": [
  {
   "cell_type": "markdown",
   "id": "4ddab22e-ec9c-4b76-a8f9-2040588110eb",
   "metadata": {},
   "source": [
    "# Assignment -2 || Data Structure"
   ]
  },
  {
   "cell_type": "markdown",
   "id": "b7fba0ef-f6d7-468d-a116-952644c144b6",
   "metadata": {},
   "source": [
    "# 1)Discuss string slicing and provide examples?\n",
    "\n",
    "# String slicing in Python allows you to extract parts of a string using a specified range of indices. The syntax for slicing is:\n",
    "\n",
    "# start: The starting index of the slice (inclusive).\n",
    "# stop: The ending index of the slice (exclusive).\n",
    "# step: The step size or stride between indices (optional).\n",
    "\n",
    "# Here are some examples to illustrate string slicing:"
   ]
  },
  {
   "cell_type": "code",
   "execution_count": 16,
   "id": "1a610f71-f8a0-499e-9762-234c666ec32b",
   "metadata": {},
   "outputs": [
    {
     "data": {
      "text/plain": [
       "'hello'"
      ]
     },
     "execution_count": 16,
     "metadata": {},
     "output_type": "execute_result"
    }
   ],
   "source": [
    "#Slicing with Step\n",
    "string = \"hello world!\"\n",
    "string[0:5:1] #by default step is 1 "
   ]
  },
  {
   "cell_type": "code",
   "execution_count": 9,
   "id": "870ad4bc-8bb0-415e-8084-5a4de17585c8",
   "metadata": {},
   "outputs": [
    {
     "data": {
      "text/plain": [
       "'hlo'"
      ]
     },
     "execution_count": 9,
     "metadata": {},
     "output_type": "execute_result"
    }
   ],
   "source": [
    "string[0:5:2]"
   ]
  },
  {
   "cell_type": "code",
   "execution_count": 12,
   "id": "e6db8cbf-f427-48c2-9359-318eefa72441",
   "metadata": {},
   "outputs": [
    {
     "name": "stdout",
     "output_type": "stream",
     "text": [
      "Hello\n",
      "World!\n"
     ]
    }
   ],
   "source": [
    "#Omitting Start or Stop\n",
    "print(String[:5])\n",
    "print(String[7:])"
   ]
  },
  {
   "cell_type": "code",
   "execution_count": 14,
   "id": "8ecbe150-2e87-49ec-9d24-0e930984f550",
   "metadata": {},
   "outputs": [
    {
     "name": "stdout",
     "output_type": "stream",
     "text": [
      "world\n"
     ]
    }
   ],
   "source": [
    "#Negative Indices\n",
    "print(string[-6:-1])"
   ]
  },
  {
   "cell_type": "code",
   "execution_count": 15,
   "id": "8f7fc036-7a11-4b11-b985-12a8cecfccfb",
   "metadata": {},
   "outputs": [
    {
     "name": "stdout",
     "output_type": "stream",
     "text": [
      "!dlrow olleh\n"
     ]
    }
   ],
   "source": [
    "#Reversing a String\n",
    "print(string[::-1])"
   ]
  },
  {
   "cell_type": "markdown",
   "id": "ae34633f-8c39-469e-b685-b58167a50206",
   "metadata": {},
   "source": [
    "# 2)Explain the key features of lists in Python?\n",
    "\n",
    "# A list is an ordered collection of items, which can be of any data type. Lists are defined by enclosing the items in square brackets [], separated by commas.\n",
    "\n",
    "# key features of lists in Python\n",
    "\n",
    "# 1.Ordered: Lists maintain the order of elements. The order in which you insert items is preserved.\n",
    "# 2.Mutable: Lists can be modified after creation. You can add, remove, or change items.\n",
    "# 3.Dynamic: Lists can grow and shrink in size as needed.\n",
    "# 4.Heterogeneous: Lists can contain elements of different data types, including other lists.\n",
    "# 5.Indexed: You can access elements using their index, starting from 0.\n",
    "# 6.Allow Duplicates: Lists can contain duplicate elements.\n",
    "# 7.Comprehensive Methods: Python lists come with a variety of built-in methods for manipulation, such as append(), remove(), sort(), and reverse() and so on."
   ]
  },
  {
   "cell_type": "code",
   "execution_count": 17,
   "id": "c989f8de-9cfb-4420-bc6c-15d062f752d8",
   "metadata": {},
   "outputs": [
    {
     "name": "stdout",
     "output_type": "stream",
     "text": [
      "apple\n"
     ]
    }
   ],
   "source": [
    "#Ordered:\n",
    "fruits = [\"apple\", \"banana\", \"cherry\"]\n",
    "print(fruits[0])"
   ]
  },
  {
   "cell_type": "code",
   "execution_count": 18,
   "id": "7899fca9-808b-4c05-b763-eb4ca11aab8a",
   "metadata": {},
   "outputs": [
    {
     "name": "stdout",
     "output_type": "stream",
     "text": [
      "['apple', 'blueberry', 'cherry']\n"
     ]
    }
   ],
   "source": [
    "#Mutable:\n",
    "fruits = [\"apple\", \"banana\", \"cherry\"]\n",
    "fruits[1] = \"blueberry\"\n",
    "print(fruits)"
   ]
  },
  {
   "cell_type": "code",
   "execution_count": 19,
   "id": "1aad0e95-f60e-4ee3-b793-e8ad7459481b",
   "metadata": {},
   "outputs": [
    {
     "name": "stdout",
     "output_type": "stream",
     "text": [
      "['apple', 'banana', 'cherry']\n"
     ]
    }
   ],
   "source": [
    "#Dynamic:\n",
    "fruits = [\"apple\", \"banana\"]\n",
    "fruits.append(\"cherry\")\n",
    "print(fruits)"
   ]
  },
  {
   "cell_type": "code",
   "execution_count": 20,
   "id": "5a40beee-d194-46bb-b604-9a3748779b6a",
   "metadata": {},
   "outputs": [
    {
     "name": "stdout",
     "output_type": "stream",
     "text": [
      "['apple', 42, 3.14, [1, 2, 3]]\n"
     ]
    }
   ],
   "source": [
    "#Heterogeneous:\n",
    "mixed_list = [\"apple\", 42, 3.14, [1, 2, 3]]\n",
    "print(mixed_list)"
   ]
  },
  {
   "cell_type": "code",
   "execution_count": 21,
   "id": "f792e6be-d439-48e4-8ed0-097c1e563e07",
   "metadata": {},
   "outputs": [
    {
     "name": "stdout",
     "output_type": "stream",
     "text": [
      "cherry\n"
     ]
    }
   ],
   "source": [
    "#Indexed:\n",
    "fruits = [\"apple\", \"banana\", \"cherry\"]\n",
    "print(fruits[2])"
   ]
  },
  {
   "cell_type": "code",
   "execution_count": 22,
   "id": "a3a7a2f1-daca-45ed-8b59-fb3e04918598",
   "metadata": {},
   "outputs": [
    {
     "name": "stdout",
     "output_type": "stream",
     "text": [
      "['apple', 'banana', 'apple']\n"
     ]
    }
   ],
   "source": [
    "#Allow Duplicates:\n",
    "fruits = [\"apple\", \"banana\", \"apple\"]\n",
    "print(fruits)"
   ]
  },
  {
   "cell_type": "code",
   "execution_count": 23,
   "id": "f7caba11-b046-49a4-9beb-6c094e53a194",
   "metadata": {},
   "outputs": [
    {
     "name": "stdout",
     "output_type": "stream",
     "text": [
      "['apple', 'banana', 'cherry', 'date']\n"
     ]
    }
   ],
   "source": [
    "#comprehensive methods\n",
    "#append()\n",
    "#Adds an element to the end of the list.\n",
    "fruits = [\"apple\", \"banana\", \"cherry\"]\n",
    "fruits.append(\"date\")\n",
    "print(fruits)"
   ]
  },
  {
   "cell_type": "code",
   "execution_count": 24,
   "id": "6900e9b0-7685-4119-ba00-a45418263e5d",
   "metadata": {},
   "outputs": [
    {
     "name": "stdout",
     "output_type": "stream",
     "text": [
      "['apple', 'cherry', 'banana']\n"
     ]
    }
   ],
   "source": [
    "#remove()\n",
    "#Removes the first occurrence of a specified element from the list.\n",
    "fruits = [\"apple\", \"banana\", \"cherry\", \"banana\"]\n",
    "fruits.remove(\"banana\")\n",
    "print(fruits)"
   ]
  },
  {
   "cell_type": "code",
   "execution_count": 27,
   "id": "5ddabf31-9b87-43a0-819d-4f2bc6a00058",
   "metadata": {},
   "outputs": [
    {
     "name": "stdout",
     "output_type": "stream",
     "text": [
      "['apple', 'banana', 'cherry']\n"
     ]
    }
   ],
   "source": [
    "#sort()\n",
    "#Sorts the elements of the list in ascending order by default. You can also sort in descending order by passing reverse=True.\n",
    "fruits = [\"cherry\", \"banana\", \"apple\"]\n",
    "fruits.sort()\n",
    "print(fruits)"
   ]
  },
  {
   "cell_type": "code",
   "execution_count": 26,
   "id": "77f64489-fe97-40c1-be0a-4dad09b85538",
   "metadata": {},
   "outputs": [
    {
     "name": "stdout",
     "output_type": "stream",
     "text": [
      "['cherry', 'banana', 'apple']\n"
     ]
    }
   ],
   "source": [
    "# Sorting in descending order\n",
    "fruits.sort(reverse=True)\n",
    "print(fruits)"
   ]
  },
  {
   "cell_type": "code",
   "execution_count": 30,
   "id": "3dd5ab77-6737-4f5a-aa22-8ebe29a75008",
   "metadata": {},
   "outputs": [
    {
     "name": "stdout",
     "output_type": "stream",
     "text": [
      "['cherry', 'banana', 'apple']\n"
     ]
    }
   ],
   "source": [
    "#reverse()\n",
    "#Reverses the order of elements in the list.\n",
    "fruits = [\"apple\", \"banana\", \"cherry\"]\n",
    "fruits.reverse()\n",
    "print(fruits)"
   ]
  },
  {
   "cell_type": "code",
   "execution_count": 31,
   "id": "cfd63047-faff-4e70-8e2e-f0b65b28fde0",
   "metadata": {},
   "outputs": [
    {
     "name": "stdout",
     "output_type": "stream",
     "text": [
      "['apple', 'banana', 'cherry', 'date']\n"
     ]
    }
   ],
   "source": [
    "#extend()\n",
    "#Adds all elements of an iterable (e.g., another list) to the end of the list.\n",
    "fruits = [\"apple\", \"banana\"]\n",
    "more_fruits = [\"cherry\", \"date\"]\n",
    "fruits.extend(more_fruits)\n",
    "print(fruits)"
   ]
  },
  {
   "cell_type": "code",
   "execution_count": 32,
   "id": "9968b554-7109-4c53-b1b1-d72a1a7a0a77",
   "metadata": {},
   "outputs": [
    {
     "name": "stdout",
     "output_type": "stream",
     "text": [
      "['apple', 'banana', 'cherry']\n"
     ]
    }
   ],
   "source": [
    "#insert()\n",
    "#Inserts an element at a specified position.\n",
    "fruits = [\"apple\", \"cherry\"]\n",
    "fruits.insert(1, \"banana\")\n",
    "print(fruits)"
   ]
  },
  {
   "cell_type": "code",
   "execution_count": 34,
   "id": "076548cb-d469-4d4c-8932-924b6f350563",
   "metadata": {},
   "outputs": [
    {
     "name": "stdout",
     "output_type": "stream",
     "text": [
      "banana\n",
      "['apple', 'cherry']\n"
     ]
    }
   ],
   "source": [
    "#pop()\n",
    "#Removes and returns the element at a specified position. If no index is specified, it removes and returns the last element.\n",
    "fruits = [\"apple\", \"banana\", \"cherry\"]\n",
    "fruit = fruits.pop(1)\n",
    "print(fruit)  \n",
    "print(fruits)"
   ]
  },
  {
   "cell_type": "code",
   "execution_count": 35,
   "id": "7f889feb-7ffd-405f-9f02-73b86c9272a9",
   "metadata": {},
   "outputs": [
    {
     "name": "stdout",
     "output_type": "stream",
     "text": [
      "cherry\n",
      "['apple']\n"
     ]
    }
   ],
   "source": [
    "# Removing the last element\n",
    "last_fruit = fruits.pop()\n",
    "print(last_fruit)\n",
    "print(fruits)"
   ]
  },
  {
   "cell_type": "code",
   "execution_count": 36,
   "id": "0fbdd5de-ef7f-43ae-a985-e8ecac3c8e7a",
   "metadata": {},
   "outputs": [
    {
     "name": "stdout",
     "output_type": "stream",
     "text": [
      "1\n"
     ]
    }
   ],
   "source": [
    "#index()\n",
    "#Returns the index of the first occurrence of a specified element.\n",
    "fruits = [\"apple\", \"banana\", \"cherry\"]\n",
    "index = fruits.index(\"banana\")\n",
    "print(index)"
   ]
  },
  {
   "cell_type": "code",
   "execution_count": 37,
   "id": "ff19e1c3-eba9-4feb-a3fe-5b5fdf58400a",
   "metadata": {},
   "outputs": [
    {
     "name": "stdout",
     "output_type": "stream",
     "text": [
      "2\n"
     ]
    }
   ],
   "source": [
    "#count()\n",
    "#Returns the number of occurrences of a specified element in the list.\n",
    "fruits = [\"apple\", \"banana\", \"cherry\", \"banana\"]\n",
    "count = fruits.count(\"banana\")\n",
    "print(count)"
   ]
  },
  {
   "cell_type": "code",
   "execution_count": 38,
   "id": "c0022596-86dd-49ee-8035-5a7708303e55",
   "metadata": {},
   "outputs": [
    {
     "name": "stdout",
     "output_type": "stream",
     "text": [
      "[]\n"
     ]
    }
   ],
   "source": [
    "#clear()\n",
    "#Removes all elements from the list.\n",
    "fruits = [\"apple\", \"banana\", \"cherry\"]\n",
    "fruits.clear()\n",
    "print(fruits)"
   ]
  },
  {
   "cell_type": "code",
   "execution_count": 39,
   "id": "ea76a505-cb8b-4d43-8d49-2cf2bd57db4f",
   "metadata": {},
   "outputs": [
    {
     "name": "stdout",
     "output_type": "stream",
     "text": [
      "['apple', 'banana', 'cherry']\n"
     ]
    }
   ],
   "source": [
    "#copy()\n",
    "#Returns a shallow copy of the list.\n",
    "fruits = [\"apple\", \"banana\", \"cherry\"]\n",
    "fruits_copy = fruits.copy()\n",
    "print(fruits_copy)"
   ]
  },
  {
   "cell_type": "code",
   "execution_count": 40,
   "id": "d8cb66de-0c15-4e03-9d0a-eaa0b2e1d733",
   "metadata": {},
   "outputs": [
    {
     "name": "stdout",
     "output_type": "stream",
     "text": [
      "3\n"
     ]
    }
   ],
   "source": [
    "#len()\n",
    "#Although not a method, len() is a built-in function that returns the number of elements in a list.\n",
    "fruits = [\"apple\", \"banana\", \"cherry\"]\n",
    "length = len(fruits)\n",
    "print(length)"
   ]
  },
  {
   "cell_type": "markdown",
   "id": "8e6c2421-b998-476c-865f-5260ee90a634",
   "metadata": {},
   "source": [
    "# 3)Describe how to access, modify, and delete elements in a list with examples?\n",
    "\n",
    "# 1.Accessing Elements in a List: You can access elements in a list using indexing. Python uses zero-based indexing, so the first element is at index 0.\n",
    "# 2.Modifying Elements in a List: You can modify elements in a list by assigning a new value to a specific index.\n",
    "# 3.Deleting Elements from a List: You can delete elements from a list using the del statement, remove() method, or pop() method."
   ]
  },
  {
   "cell_type": "code",
   "execution_count": 43,
   "id": "ba4a20d7-aeea-4aa9-9ae5-bc06f6141292",
   "metadata": {},
   "outputs": [
    {
     "name": "stdout",
     "output_type": "stream",
     "text": [
      "apple\n",
      "cherry\n"
     ]
    }
   ],
   "source": [
    "# Creating a list\n",
    "my_list = ['apple', 'banana', 'cherry', 'date']\n",
    "# Accessing elements\n",
    "print(my_list[0])\n",
    "print(my_list[2])"
   ]
  },
  {
   "cell_type": "code",
   "execution_count": 42,
   "id": "d5a7591e-b93c-426d-b8bf-301a494e338b",
   "metadata": {},
   "outputs": [
    {
     "name": "stdout",
     "output_type": "stream",
     "text": [
      "date\n",
      "banana\n"
     ]
    }
   ],
   "source": [
    "# Negative indexing\n",
    "print(my_list[-1])\n",
    "print(my_list[-3])"
   ]
  },
  {
   "cell_type": "code",
   "execution_count": 44,
   "id": "4a121180-fcbb-42e9-bb2b-28e65482b61a",
   "metadata": {},
   "outputs": [
    {
     "name": "stdout",
     "output_type": "stream",
     "text": [
      "['apple', 'blueberry', 'cherry', 'date']\n"
     ]
    }
   ],
   "source": [
    "# Modifying elements\n",
    "my_list[1] = 'blueberry'\n",
    "print(my_list)"
   ]
  },
  {
   "cell_type": "code",
   "execution_count": 45,
   "id": "147e5bc9-3508-49ad-a721-afea57f380c6",
   "metadata": {},
   "outputs": [
    {
     "name": "stdout",
     "output_type": "stream",
     "text": [
      "['apple', 'blueberry', 'date']\n"
     ]
    }
   ],
   "source": [
    "#Deleting Elements\n",
    "#del statement\n",
    "#Deleting an element by index\n",
    "del my_list[2]\n",
    "print(my_list)"
   ]
  },
  {
   "cell_type": "code",
   "execution_count": 46,
   "id": "ff9501bc-804f-4f27-93ad-d45b05d6716f",
   "metadata": {},
   "outputs": [
    {
     "name": "stdout",
     "output_type": "stream",
     "text": [
      "['apple', 'date']\n"
     ]
    }
   ],
   "source": [
    "#remove() method\n",
    "#Removing an element by value\n",
    "my_list.remove('blueberry')\n",
    "print(my_list)"
   ]
  },
  {
   "cell_type": "code",
   "execution_count": 47,
   "id": "6a1a6206-ee13-4853-80fc-db8eca58c69e",
   "metadata": {},
   "outputs": [
    {
     "name": "stdout",
     "output_type": "stream",
     "text": [
      "date\n",
      "['apple']\n"
     ]
    }
   ],
   "source": [
    "#pop() method\n",
    "#Removing an element by index and returning it\n",
    "popped_element = my_list.pop(1)\n",
    "print(popped_element)\n",
    "print(my_list)"
   ]
  },
  {
   "cell_type": "markdown",
   "id": "dfd9827d-290b-46d3-88c4-2c230712e72a",
   "metadata": {},
   "source": [
    "# 4)Compare and contrast tuples and lists with examples?\n",
    "# 1.Mutability:\n",
    "# > Lists are mutable, meaning you can change their content (add, remove, or modify elements).\n",
    "# > Tuples are immutable, meaning once they are created, their content cannot be changed."
   ]
  },
  {
   "cell_type": "code",
   "execution_count": 48,
   "id": "db5d3359-f393-4211-84a6-008e1e30996b",
   "metadata": {},
   "outputs": [
    {
     "name": "stdout",
     "output_type": "stream",
     "text": [
      "[4, 2, 3]\n"
     ]
    }
   ],
   "source": [
    "# List example\n",
    "my_list = [1, 2, 3]\n",
    "my_list[0] = 4  # Modifying the first element\n",
    "print(my_list)"
   ]
  },
  {
   "cell_type": "code",
   "execution_count": 51,
   "id": "b1f2a452-2f53-429d-ad34-4dfb4d6fb973",
   "metadata": {},
   "outputs": [
    {
     "name": "stdout",
     "output_type": "stream",
     "text": [
      "(1, 2, 3)\n"
     ]
    }
   ],
   "source": [
    "# Tuple example\n",
    "my_tuple = (1, 2, 3)\n",
    "# my_tuple[0] = 4  # This will raise a TypeError\n",
    "print(my_tuple)"
   ]
  },
  {
   "cell_type": "markdown",
   "id": "3a5cef13-7809-4eeb-9867-d51ac0fbea84",
   "metadata": {},
   "source": [
    "# 2.Syntax\n",
    "# > Lists are defined using square brackets []. List example: my_list = [1, 2, 3]\n",
    "# > Tuples are defined using parentheses (). Tuple example: my_tuple = (1, 2, 3)"
   ]
  },
  {
   "cell_type": "markdown",
   "id": "0b976fad-903f-4308-b3c6-ddd3e92d799b",
   "metadata": {},
   "source": [
    "# 3.Performance\n",
    "# > Tuples are generally faster than lists because of their immutability.\n",
    "# > Lists are slower compared to tuples due to their mutable nature."
   ]
  },
  {
   "cell_type": "code",
   "execution_count": 54,
   "id": "74d82787-35ad-4a90-9d12-dcff5f4e549e",
   "metadata": {},
   "outputs": [
    {
     "name": "stdout",
     "output_type": "stream",
     "text": [
      "List creation time: 0.06238389015197754\n",
      "Tuple creation time: 0.08664989471435547\n"
     ]
    }
   ],
   "source": [
    "import time\n",
    "\n",
    "# List performance\n",
    "start_time = time.time()\n",
    "my_list = [i for i in range(1000000)]\n",
    "end_time = time.time()\n",
    "print(\"List creation time:\", end_time - start_time)\n",
    "\n",
    "# Tuple performance\n",
    "start_time = time.time()\n",
    "my_tuple = tuple(i for i in range(1000000))\n",
    "end_time = time.time()\n",
    "print(\"Tuple creation time:\", end_time - start_time)"
   ]
  },
  {
   "cell_type": "markdown",
   "id": "f629a19e-b9f7-4aa3-a4f5-37d55affd532",
   "metadata": {},
   "source": [
    "# 4.Memory Usage\n",
    "# > Tuples use less memory compared to lists.\n",
    "# > Lists consume more memory due to their dynamic nature."
   ]
  },
  {
   "cell_type": "code",
   "execution_count": 55,
   "id": "aac5c708-4b22-4965-83ea-93c7dd219386",
   "metadata": {},
   "outputs": [
    {
     "name": "stdout",
     "output_type": "stream",
     "text": [
      "List size: 104\n",
      "Tuple size: 80\n"
     ]
    }
   ],
   "source": [
    "import sys\n",
    "\n",
    "my_list = [1, 2, 3, 4, 5]\n",
    "my_tuple = (1, 2, 3, 4, 5)\n",
    "\n",
    "print(\"List size:\", sys.getsizeof(my_list))\n",
    "print(\"Tuple size:\", sys.getsizeof(my_tuple))"
   ]
  },
  {
   "cell_type": "markdown",
   "id": "050e4b8c-a58e-4cef-842a-e4325aff2a42",
   "metadata": {},
   "source": [
    "# 5.Methods\n",
    "# > Lists have more built-in methods (e.g., append(), remove(), sort(), etc.).\n",
    "# > Tuples have fewer built-in methods (e.g., count(), index())."
   ]
  },
  {
   "cell_type": "code",
   "execution_count": 56,
   "id": "cb180f8d-d96c-40f4-a74f-456ac7a6dcbc",
   "metadata": {},
   "outputs": [
    {
     "name": "stdout",
     "output_type": "stream",
     "text": [
      "[1, 2, 3, 4]\n",
      "1\n",
      "2\n"
     ]
    }
   ],
   "source": [
    "# List methods\n",
    "my_list = [1, 2, 3]\n",
    "my_list.append(4)\n",
    "print(my_list)\n",
    "\n",
    "# Tuple methods\n",
    "my_tuple = (1, 2, 3)\n",
    "print(my_tuple.count(2))\n",
    "print(my_tuple.index(3))"
   ]
  },
  {
   "cell_type": "markdown",
   "id": "74ea2327-b1ae-4027-9e49-5e97a65665f5",
   "metadata": {},
   "source": [
    "# 5)Describe the key features of sets and provide examples of their use?\n",
    "# Key Features of Sets\n",
    "# 1.Unordered Collection: Sets are unordered, meaning the elements do not have a specific order.The order of elements can change over time.\n",
    "# 2.Unique Elements: Sets do not allow duplicate elements. Each element in a set must be unique.\n",
    "# 3.Mutable: Sets are mutable, meaning you can add or remove elements after the set has been created. However, the elements themselves must be immutable (e.g., numbers, strings, tuples).\n",
    "# 4.No Indexing: Since sets are unordered, they do not support indexing, slicing, or other sequence-like behavior.\n",
    "# 5.Set Operations: Sets support mathematical operations like union, intersection, difference, and symmetric difference."
   ]
  },
  {
   "cell_type": "code",
   "execution_count": 1,
   "id": "45faaca7-29de-46bd-9ed2-7e0014f4c234",
   "metadata": {},
   "outputs": [
    {
     "name": "stdout",
     "output_type": "stream",
     "text": [
      "{1, 2, 3, 4, 5}\n"
     ]
    }
   ],
   "source": [
    "# Creating a set of integers\n",
    "my_set = {1, 2, 3, 4, 5}\n",
    "print(my_set)"
   ]
  },
  {
   "cell_type": "code",
   "execution_count": 2,
   "id": "8534d7f2-2dd9-48e9-b441-203391d4ded8",
   "metadata": {},
   "outputs": [
    {
     "name": "stdout",
     "output_type": "stream",
     "text": [
      "{3.14, 1, (1, 2), 'Hello'}\n",
      "set()\n"
     ]
    }
   ],
   "source": [
    "# Creating a set with mixed data types\n",
    "mixed_set = {1, \"Hello\", 3.14, (1, 2)}\n",
    "print(mixed_set)\n",
    "\n",
    "# Creating an empty set\n",
    "empty_set = set()\n",
    "print(empty_set)"
   ]
  },
  {
   "cell_type": "code",
   "execution_count": 4,
   "id": "454104a3-977a-4d06-b5ac-60e9aa16ce99",
   "metadata": {},
   "outputs": [
    {
     "name": "stdout",
     "output_type": "stream",
     "text": [
      "{1, 2, 3, 4}\n",
      "{1, 3, 4}\n",
      "{1, 3, 4}\n"
     ]
    }
   ],
   "source": [
    "# Adding elements to a set\n",
    "my_set = {1, 2, 3}\n",
    "my_set.add(4)\n",
    "print(my_set)\n",
    "\n",
    "# Removing elements from a set\n",
    "my_set.remove(2)\n",
    "print(my_set)\n",
    "\n",
    "# Discarding an element (does not raise an error if the element is not found)\n",
    "my_set.discard(5)\n",
    "print(my_set)"
   ]
  },
  {
   "cell_type": "code",
   "execution_count": 6,
   "id": "cf31c422-b5c8-4aa2-98d9-f1d1f008d0cc",
   "metadata": {},
   "outputs": [
    {
     "name": "stdout",
     "output_type": "stream",
     "text": [
      "{1, 2, 3, 4, 5}\n",
      "{3}\n",
      "{1, 2}\n",
      "{1, 2, 4, 5}\n"
     ]
    }
   ],
   "source": [
    "# Union of sets\n",
    "set1 = {1, 2, 3}\n",
    "set2 = {3, 4, 5}\n",
    "union_set = set1.union(set2)\n",
    "print(union_set)\n",
    "\n",
    "# Intersection of sets\n",
    "intersection_set = set1.intersection(set2)\n",
    "print(intersection_set)\n",
    "\n",
    "# Difference of sets\n",
    "difference_set = set1.difference(set2)\n",
    "print(difference_set)\n",
    "\n",
    "# Symmetric difference of sets\n",
    "symmetric_difference_set = set1.symmetric_difference(set2)\n",
    "print(symmetric_difference_set)"
   ]
  },
  {
   "cell_type": "code",
   "execution_count": 7,
   "id": "a2472cfc-3071-4c3d-86fc-e994e2f004e5",
   "metadata": {},
   "outputs": [
    {
     "name": "stdout",
     "output_type": "stream",
     "text": [
      "True\n",
      "False\n"
     ]
    }
   ],
   "source": [
    "# Checking if an element is in a set\n",
    "my_set = {1, 2, 3}\n",
    "print(1 in my_set)\n",
    "print(4 in my_set)"
   ]
  },
  {
   "cell_type": "markdown",
   "id": "b80a953f-255c-48aa-9248-4bbdef141edd",
   "metadata": {
    "tags": []
   },
   "source": [
    "# 6)Discuss the use cases of tuples and sets in Python programming?\n",
    "# Tuples are immutable sequences, meaning once they are created, their elements cannot be changed. Here are some common use cases:\n",
    "# 1.Returning Multiple Values from Functions: Functions can return multiple values using tuples, making the code cleaner and avoiding the need for custom data structures."
   ]
  },
  {
   "cell_type": "code",
   "execution_count": 5,
   "id": "fa5de159-4c3b-42ef-864b-126904f0b8d9",
   "metadata": {},
   "outputs": [
    {
     "name": "stdout",
     "output_type": "stream",
     "text": [
      "Coordinates: x = 10, y = 20\n"
     ]
    }
   ],
   "source": [
    "def get_coordinates():\n",
    "    return (10, 20)\n",
    "\n",
    "x, y = get_coordinates()\n",
    "print(f\"Coordinates: x = {x}, y = {y}\")"
   ]
  },
  {
   "cell_type": "markdown",
   "id": "bbab8f54-3545-4bf2-ab30-9672c8946ac6",
   "metadata": {},
   "source": [
    "# 2.Storing Fixed Data: Tuples are ideal for storing data that should not change throughout the program’s execution, such as configuration settings or constants."
   ]
  },
  {
   "cell_type": "code",
   "execution_count": 6,
   "id": "2ef241fe-88ec-44c2-8cdb-de18fc30a6c1",
   "metadata": {},
   "outputs": [
    {
     "name": "stdout",
     "output_type": "stream",
     "text": [
      "Days of the week: ('Monday', 'Tuesday', 'Wednesday', 'Thursday', 'Friday', 'Saturday', 'Sunday')\n"
     ]
    }
   ],
   "source": [
    "DAYS_OF_WEEK = (\"Monday\", \"Tuesday\", \"Wednesday\", \"Thursday\", \"Friday\", \"Saturday\", \"Sunday\")\n",
    "print(\"Days of the week:\", DAYS_OF_WEEK)"
   ]
  },
  {
   "cell_type": "markdown",
   "id": "a7360611-19fc-4636-b9f0-4c93b33c66a5",
   "metadata": {},
   "source": [
    "# 3.Heterogeneous Data: Tuples can store heterogeneous data types, making them useful for grouping related but different types of data."
   ]
  },
  {
   "cell_type": "code",
   "execution_count": 9,
   "id": "4381fe43-c168-4013-8ee9-4727c65ca8bb",
   "metadata": {},
   "outputs": [
    {
     "name": "stdout",
     "output_type": "stream",
     "text": [
      "Name: John Doe, Age: 30, Profession: Engineer\n"
     ]
    }
   ],
   "source": [
    "person = (\"John Doe\", 30, \"Engineer\")\n",
    "print(f\"Name: {person[0]}, Age: {person[1]}, Profession: {person[2]}\")"
   ]
  },
  {
   "cell_type": "markdown",
   "id": "3696a6c4-3aa2-4404-ad2c-566031ae8f40",
   "metadata": {},
   "source": [
    "# 4.Dictionary Keys: Tuples can be used as keys in dictionaries because they are immutable."
   ]
  },
  {
   "cell_type": "code",
   "execution_count": 10,
   "id": "a02150e4-c610-4fd8-96e2-b94475441d0d",
   "metadata": {},
   "outputs": [
    {
     "name": "stdout",
     "output_type": "stream",
     "text": [
      "Population of New York, USA: 8175133\n"
     ]
    }
   ],
   "source": [
    "locations = {(\"New York\", \"USA\"): 8175133, (\"Tokyo\", \"Japan\"): 13929286}\n",
    "print(\"Population of New York, USA:\", locations[(\"New York\", \"USA\")])"
   ]
  },
  {
   "cell_type": "markdown",
   "id": "94a92557-e5a8-401d-a964-60333d4e1c86",
   "metadata": {},
   "source": [
    "# 5.Named Tuples: Named tuples provide a way to access tuple elements using named fields, improving code readability."
   ]
  },
  {
   "cell_type": "code",
   "execution_count": 11,
   "id": "e6c9b96a-d31f-4621-a37a-a3cfe50ef758",
   "metadata": {},
   "outputs": [
    {
     "name": "stdout",
     "output_type": "stream",
     "text": [
      "Point coordinates: x = 10, y = 20\n"
     ]
    }
   ],
   "source": [
    "from collections import namedtuple\n",
    "\n",
    "Point = namedtuple('Point', ['x', 'y'])\n",
    "p = Point(10, 20)\n",
    "print(f\"Point coordinates: x = {p.x}, y = {p.y}\")"
   ]
  },
  {
   "cell_type": "markdown",
   "id": "ee946465-ae9c-4d83-8638-bc8b6f216e60",
   "metadata": {},
   "source": [
    "# Sets are unordered collections of unique elements. Here are some common use cases:"
   ]
  },
  {
   "cell_type": "markdown",
   "id": "8a749706-11eb-431e-8b9d-11c456ff1d36",
   "metadata": {},
   "source": [
    "# 1.Removing Duplicates: Sets automatically remove duplicate values, making them useful for filtering out duplicates from lists or other sequences."
   ]
  },
  {
   "cell_type": "code",
   "execution_count": 12,
   "id": "4865c1d0-aa2c-42a9-99f8-bb5acb579d87",
   "metadata": {},
   "outputs": [
    {
     "name": "stdout",
     "output_type": "stream",
     "text": [
      "Unique numbers: {1, 2, 3, 4, 5}\n"
     ]
    }
   ],
   "source": [
    "numbers = [1, 2, 2, 3, 4, 4, 5]\n",
    "unique_numbers = set(numbers)\n",
    "print(\"Unique numbers:\", unique_numbers)"
   ]
  },
  {
   "cell_type": "markdown",
   "id": "c69b9440-318d-4ac3-9691-098169da966a",
   "metadata": {},
   "source": [
    "# 2.Membership Testing: Sets provide efficient membership testing, which is useful for checking if an element exists in a collection."
   ]
  },
  {
   "cell_type": "code",
   "execution_count": 7,
   "id": "66b78ba6-5794-4a2c-a5b0-4153bbe385fa",
   "metadata": {},
   "outputs": [
    {
     "name": "stdout",
     "output_type": "stream",
     "text": [
      "True\n"
     ]
    }
   ],
   "source": [
    "fruits = {\"apple\", \"banana\", \"cherry\"}\n",
    "print(\"apple\" in fruits)"
   ]
  },
  {
   "cell_type": "markdown",
   "id": "754a5e7d-2f15-427c-adce-25373c4eeb08",
   "metadata": {},
   "source": [
    "# 3.Set Operations: Sets support mathematical operations like union, intersection, difference, and symmetric difference, which are useful for various data manipulation tasks."
   ]
  },
  {
   "cell_type": "code",
   "execution_count": 8,
   "id": "ff97a38f-85bd-4b59-98ac-d85e313ba8cd",
   "metadata": {},
   "outputs": [
    {
     "name": "stdout",
     "output_type": "stream",
     "text": [
      "{1, 2, 3, 4, 5}\n",
      "{3}\n",
      "{1, 2}\n",
      "{1, 2, 4, 5}\n"
     ]
    }
   ],
   "source": [
    "a = {1, 2, 3}\n",
    "b = {3, 4, 5}\n",
    "print(a | b)\n",
    "print(a & b)  \n",
    "print(a - b)  \n",
    "print(a ^ b)"
   ]
  },
  {
   "cell_type": "markdown",
   "id": "b3d1342a-2c24-4bd7-b3c0-9a260832ee8b",
   "metadata": {},
   "source": [
    "# 4.Unique Elements in Collections: Sets are useful for ensuring that a collection contains only unique elements."
   ]
  },
  {
   "cell_type": "code",
   "execution_count": 13,
   "id": "70884559-ad94-4b5d-9212-f392aa481c4f",
   "metadata": {},
   "outputs": [
    {
     "name": "stdout",
     "output_type": "stream",
     "text": [
      "Unique words: {'banana', 'orange', 'apple'}\n"
     ]
    }
   ],
   "source": [
    "words = [\"apple\", \"banana\", \"apple\", \"orange\"]\n",
    "unique_words = set(words)\n",
    "print(\"Unique words:\", unique_words)"
   ]
  },
  {
   "cell_type": "markdown",
   "id": "b5cf1641-0cb3-44d6-b283-e2ee4fe9b521",
   "metadata": {},
   "source": [
    "# 5.Efficient Data Storage: Sets can be used to store and manage large collections of data efficiently, especially when the order of elements is not important."
   ]
  },
  {
   "cell_type": "code",
   "execution_count": 17,
   "id": "2a8a3fc4-f8e0-4b2d-abff-e982f0f90404",
   "metadata": {},
   "outputs": [
    {
     "name": "stdout",
     "output_type": "stream",
     "text": [
      "Unique email addresses:\n",
      "charlie@example.com\n",
      "dave@example.com\n",
      "bob@example.com\n",
      "eve@example.com\n",
      "frank@example.com\n",
      "alice@example.com\n",
      "grace@example.com\n"
     ]
    }
   ],
   "source": [
    "# List of email addresses with duplicates\n",
    "email_list = [\n",
    "    \"alice@example.com\", \"bob@example.com\", \"charlie@example.com\",\n",
    "    \"alice@example.com\", \"dave@example.com\", \"eve@example.com\",\n",
    "    \"bob@example.com\", \"frank@example.com\", \"grace@example.com\"\n",
    "]\n",
    "\n",
    "# Convert the list to a set to remove duplicates\n",
    "unique_emails = set(email_list)\n",
    "\n",
    "# Print the unique email addresses\n",
    "print(\"Unique email addresses:\")\n",
    "for email in unique_emails:\n",
    "    print(email)"
   ]
  },
  {
   "cell_type": "markdown",
   "id": "86cbbf9d-f3e7-4f59-8ae9-f670d159d930",
   "metadata": {},
   "source": [
    "# Both tuples and sets have their unique advantages and are used in different scenarios to make Python programming more efficient and effective."
   ]
  },
  {
   "cell_type": "markdown",
   "id": "caef0895-f611-4fdb-a56a-605093906db9",
   "metadata": {},
   "source": [
    "# 7)Describe how to add, modify, and delete items in a dictionary with examples?\n",
    "# 1.Adding Items to a Dictionary: You can add items to a dictionary by assigning a value to a new key. If the key already exists, the value will be updated."
   ]
  },
  {
   "cell_type": "code",
   "execution_count": 19,
   "id": "c1375edd-4bac-4377-866d-8fba8c82b705",
   "metadata": {},
   "outputs": [
    {
     "name": "stdout",
     "output_type": "stream",
     "text": [
      "{'a': 1, 'b': 2, 'c': 3}\n"
     ]
    }
   ],
   "source": [
    "#Using Square Bracket Notation:\n",
    "my_dict = {'a': 1, 'b': 2}\n",
    "my_dict['c'] = 3  # Adding a new key-value pair\n",
    "print(my_dict)"
   ]
  },
  {
   "cell_type": "code",
   "execution_count": 21,
   "id": "4bcef31e-94ac-4bc2-b88a-0a5fb5bde19d",
   "metadata": {},
   "outputs": [
    {
     "name": "stdout",
     "output_type": "stream",
     "text": [
      "{'a': 1, 'b': 2, 'c': 3, 'd': 4}\n"
     ]
    }
   ],
   "source": [
    "#Using the update() Method:\n",
    "my_dict = {'a': 1, 'b': 2}\n",
    "my_dict.update({'c': 3, 'd': 4})  # Adding multiple key-value pairs\n",
    "print(my_dict)"
   ]
  },
  {
   "cell_type": "markdown",
   "id": "dfbcd38c-ffa0-456e-8542-1318322fc243",
   "metadata": {},
   "source": [
    "# Modifying Items in a Dictionary: You can modify the value associated with a specific key by reassigning it."
   ]
  },
  {
   "cell_type": "code",
   "execution_count": 1,
   "id": "dcb4e434-1a78-4bcf-a677-cfe43eb9367b",
   "metadata": {},
   "outputs": [
    {
     "name": "stdout",
     "output_type": "stream",
     "text": [
      "{'a': 10, 'b': 2}\n"
     ]
    }
   ],
   "source": [
    "#Using Square Bracket Notation:\n",
    "my_dict = {'a': 1, 'b': 2}\n",
    "my_dict['a'] = 10  # Modifying the value of an existing key\n",
    "print(my_dict)"
   ]
  },
  {
   "cell_type": "code",
   "execution_count": 2,
   "id": "58d585e7-3f76-4a4c-80f8-afcadce711a2",
   "metadata": {},
   "outputs": [
    {
     "name": "stdout",
     "output_type": "stream",
     "text": [
      "{'a': 10, 'b': 2}\n"
     ]
    }
   ],
   "source": [
    "#Using the update() Method:\n",
    "my_dict = {'a': 1, 'b': 2}\n",
    "my_dict.update({'a': 10})  # Modifying the value of an existing key\n",
    "print(my_dict)"
   ]
  },
  {
   "cell_type": "markdown",
   "id": "a7952f6c-6665-48a6-aaf4-ce2b5bba1567",
   "metadata": {},
   "source": [
    "# Deleting Items from a Dictionary: You can delete items from a dictionary using several methods."
   ]
  },
  {
   "cell_type": "code",
   "execution_count": 4,
   "id": "b74758dc-6b7f-4506-9c82-62be0cde807d",
   "metadata": {},
   "outputs": [
    {
     "name": "stdout",
     "output_type": "stream",
     "text": [
      "{'a': 1, 'c': 3}\n"
     ]
    }
   ],
   "source": [
    "#Using the del Keyword:\n",
    "my_dict = {'a': 1, 'b': 2, 'c': 3}\n",
    "del my_dict['b']  # Deleting a specific key-value pair\n",
    "print(my_dict)"
   ]
  },
  {
   "cell_type": "code",
   "execution_count": 6,
   "id": "1f66dfdb-041b-4aad-a1c6-7f69bcb77e9e",
   "metadata": {},
   "outputs": [
    {
     "name": "stdout",
     "output_type": "stream",
     "text": [
      "{'a': 1, 'c': 3}\n",
      "2\n"
     ]
    }
   ],
   "source": [
    "#Using the pop() Method:\n",
    "my_dict = {'a': 1, 'b': 2, 'c': 3}\n",
    "value = my_dict.pop('b')  # Deleting a specific key-value pair and returning its value\n",
    "print(my_dict)\n",
    "print(value) "
   ]
  },
  {
   "cell_type": "code",
   "execution_count": 7,
   "id": "36ecf4ed-2147-4e1c-88f3-78d0de59ac5b",
   "metadata": {},
   "outputs": [
    {
     "name": "stdout",
     "output_type": "stream",
     "text": [
      "{'a': 1, 'b': 2}\n",
      "c 3\n"
     ]
    }
   ],
   "source": [
    "#Using the popitem() Method:\n",
    "my_dict = {'a': 1, 'b': 2, 'c': 3}\n",
    "key, value = my_dict.popitem()  # Deleting the last inserted key-value pair and returning it as a tuple\n",
    "print(my_dict)\n",
    "print(key, value)"
   ]
  },
  {
   "cell_type": "code",
   "execution_count": 8,
   "id": "168845b9-c3cd-44b0-877b-375f9adedf3c",
   "metadata": {},
   "outputs": [
    {
     "name": "stdout",
     "output_type": "stream",
     "text": [
      "{}\n"
     ]
    }
   ],
   "source": [
    "#Using the clear() Method:\n",
    "my_dict = {'a': 1, 'b': 2, 'c': 3}\n",
    "my_dict.clear()  # Removing all items from the dictionary\n",
    "print(my_dict)"
   ]
  },
  {
   "cell_type": "markdown",
   "id": "0f028847-4833-4964-b300-c4b4dcabd1d1",
   "metadata": {},
   "source": [
    "# 8)Discuss the importance of dictionary keys being immutable and provide examples?\n",
    "# In Python, dictionary keys must be immutable. This requirement is crucial for several reasons related to the internal workings of dictionaries and their efficiency.\n",
    "\n",
    "# Importance of Immutable Dictionary Keys\n",
    "# 1.Hashing Requirement: Dictionaries in Python are implemented using hash tables. Each key in a dictionary is hashed to a specific value, which is then used to quickly locate the corresponding value. If a key were mutable, its hash value could change, making it impossible to reliably locate the key in the hash table1.\n",
    "# 2.Consistency and Reliability: Immutable keys ensure that the key-value pairs remain consistent throughout the lifetime of the dictionary. If keys could change, it would lead to unpredictable behavior and make it difficult to retrieve values2.\n",
    "# 3.Performance:Immutable keys allow for faster lookups and insertions. Since the hash value of an immutable key remains constant, the dictionary can quickly compute the hash and access the value without needing to rehash the key3.\n",
    "\n",
    "# Examples of Immutable Keys:"
   ]
  },
  {
   "cell_type": "code",
   "execution_count": 12,
   "id": "3ae51385-d0bd-46a1-b137-364a85479089",
   "metadata": {},
   "outputs": [
    {
     "name": "stdout",
     "output_type": "stream",
     "text": [
      "Alice\n"
     ]
    }
   ],
   "source": [
    "#Using Strings as Keys:\n",
    "my_dict = {\"name\": \"Alice\", \"age\": 30}\n",
    "print(my_dict[\"name\"])"
   ]
  },
  {
   "cell_type": "code",
   "execution_count": 11,
   "id": "5b37aa15-756d-447c-987e-f87c0be2447b",
   "metadata": {},
   "outputs": [
    {
     "name": "stdout",
     "output_type": "stream",
     "text": [
      "two\n"
     ]
    }
   ],
   "source": [
    "#Using Numbers as Keys:\n",
    "my_dict = {1: \"one\", 2: \"two\", 3: \"three\"}\n",
    "print(my_dict[2])"
   ]
  },
  {
   "cell_type": "code",
   "execution_count": 15,
   "id": "26292b82-e74f-45e9-8097-c96fd959de25",
   "metadata": {},
   "outputs": [
    {
     "name": "stdout",
     "output_type": "stream",
     "text": [
      "point A\n"
     ]
    }
   ],
   "source": [
    "#Using Tuples as Keys:\n",
    "my_dict = {(1, 2): \"point A\", (3, 4): \"point B\"}\n",
    "print(my_dict[(1, 2)])"
   ]
  },
  {
   "cell_type": "code",
   "execution_count": 16,
   "id": "1dded93c-d1c7-4e61-9b8b-b2d4cbf5d098",
   "metadata": {},
   "outputs": [
    {
     "name": "stdout",
     "output_type": "stream",
     "text": [
      "unhashable type: 'list'\n"
     ]
    }
   ],
   "source": [
    "#Example of Mutable Keys Causing Issues\n",
    "#If you try to use a mutable type like a list as a dictionary key, Python will raise a TypeError because lists are not hashable.\n",
    "try:\n",
    "    my_dict = {[1, 2]: \"value\"}\n",
    "except TypeError as e:\n",
    "    print(e)"
   ]
  },
  {
   "cell_type": "code",
   "execution_count": 17,
   "id": "50bc9c67-ea31-4b5a-aa21-e6e5cf7c8858",
   "metadata": {},
   "outputs": [
    {
     "name": "stdout",
     "output_type": "stream",
     "text": [
      "value\n"
     ]
    }
   ],
   "source": [
    "#Converting Mutable to Immutable: If you need to use a mutable type as a key, you can convert it to an immutable type. For example, you can convert a list to a tuple.\n",
    "my_list = [1, 2, 3]\n",
    "my_dict = {tuple(my_list): \"value\"}\n",
    "print(my_dict[(1, 2, 3)])"
   ]
  },
  {
   "cell_type": "markdown",
   "id": "d6529a94-56be-4237-bf87-9e94be710d06",
   "metadata": {},
   "source": [
    "# By ensuring that dictionary keys are immutable, Python maintains the efficiency and reliability of its dictionary operations."
   ]
  }
 ],
 "metadata": {
  "kernelspec": {
   "display_name": "Python 3 (ipykernel)",
   "language": "python",
   "name": "python3"
  },
  "language_info": {
   "codemirror_mode": {
    "name": "ipython",
    "version": 3
   },
   "file_extension": ".py",
   "mimetype": "text/x-python",
   "name": "python",
   "nbconvert_exporter": "python",
   "pygments_lexer": "ipython3",
   "version": "3.10.8"
  }
 },
 "nbformat": 4,
 "nbformat_minor": 5
}
